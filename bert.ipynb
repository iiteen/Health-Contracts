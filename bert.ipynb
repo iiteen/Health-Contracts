{
 "cells": [
  {
   "cell_type": "code",
   "execution_count": 3,
   "metadata": {},
   "outputs": [
    {
     "name": "stdout",
     "output_type": "stream",
     "text": [
      "HILABS CARE, INC.\n",
      "\n",
      "ANCILLARY SERVICES AGREEMENT\n",
      "\n",
      "This Ancillary Services Agreement (“Agreement”) is made and entered into as of the first day of January 2021, by and\n",
      "between HILABS CARE, INC. doing business as BRAND NEW DAY (“Plan”) and ASCC LLC dba Riverwood\n",
      "Healthcare Center (“Provider”), with reference to the following facts:\n",
      "\n",
      "WHEREAS, Plan is a licensed health care services plan that has entered into or will enter into contracts with various\n",
      "government and private Payors under which the Plan\n"
     ]
    }
   ],
   "source": [
    "from pdf2image import convert_from_path\n",
    "import pytesseract\n",
    "\n",
    "# Path to the PDF\n",
    "pdf_path = '/Users/krishkhadria/Desktop/Hilabs_project/Samples/Contract 3.pdf'\n",
    "\n",
    "# Convert PDF to images\n",
    "images = convert_from_path(pdf_path)\n",
    "\n",
    "# Extract text from images using Tesseract\n",
    "pdf_text = \"\"\n",
    "for image in images:\n",
    "    pdf_text += pytesseract.image_to_string(image)\n",
    "\n",
    "print(pdf_text[:500])  # Print first 500 characters for verification"
   ]
  },
  {
   "cell_type": "code",
   "execution_count": 4,
   "metadata": {},
   "outputs": [
    {
     "name": "stderr",
     "output_type": "stream",
     "text": [
      "/Users/krishkhadria/anaconda3/envs/hilabs/lib/python3.9/site-packages/sentence_transformers/cross_encoder/CrossEncoder.py:11: TqdmExperimentalWarning: Using `tqdm.autonotebook.tqdm` in notebook mode. Use `tqdm.tqdm` instead to force console mode (e.g. in jupyter console)\n",
      "  from tqdm.autonotebook import tqdm, trange\n"
     ]
    },
    {
     "data": {
      "application/vnd.jupyter.widget-view+json": {
       "model_id": "70d6e9fced69492dae4f426e25a643e0",
       "version_major": 2,
       "version_minor": 0
      },
      "text/plain": [
       "modules.json:   0%|          | 0.00/349 [00:00<?, ?B/s]"
      ]
     },
     "metadata": {},
     "output_type": "display_data"
    },
    {
     "data": {
      "application/vnd.jupyter.widget-view+json": {
       "model_id": "0a7070ed4adc42ba80e47aeb2536833c",
       "version_major": 2,
       "version_minor": 0
      },
      "text/plain": [
       "config_sentence_transformers.json:   0%|          | 0.00/116 [00:00<?, ?B/s]"
      ]
     },
     "metadata": {},
     "output_type": "display_data"
    },
    {
     "data": {
      "application/vnd.jupyter.widget-view+json": {
       "model_id": "a5521cbacc534f129bcdeaebf29aa7ae",
       "version_major": 2,
       "version_minor": 0
      },
      "text/plain": [
       "README.md:   0%|          | 0.00/10.7k [00:00<?, ?B/s]"
      ]
     },
     "metadata": {},
     "output_type": "display_data"
    },
    {
     "data": {
      "application/vnd.jupyter.widget-view+json": {
       "model_id": "12abb92e812d49979d434609951fd1d4",
       "version_major": 2,
       "version_minor": 0
      },
      "text/plain": [
       "sentence_bert_config.json:   0%|          | 0.00/53.0 [00:00<?, ?B/s]"
      ]
     },
     "metadata": {},
     "output_type": "display_data"
    },
    {
     "data": {
      "application/vnd.jupyter.widget-view+json": {
       "model_id": "264af2c4b5be472bb2ee29f61ffc6dc1",
       "version_major": 2,
       "version_minor": 0
      },
      "text/plain": [
       "config.json:   0%|          | 0.00/612 [00:00<?, ?B/s]"
      ]
     },
     "metadata": {},
     "output_type": "display_data"
    },
    {
     "data": {
      "application/vnd.jupyter.widget-view+json": {
       "model_id": "5a43760fb9414aadb9ba17080be0aaf5",
       "version_major": 2,
       "version_minor": 0
      },
      "text/plain": [
       "model.safetensors:   0%|          | 0.00/90.9M [00:00<?, ?B/s]"
      ]
     },
     "metadata": {},
     "output_type": "display_data"
    },
    {
     "data": {
      "application/vnd.jupyter.widget-view+json": {
       "model_id": "71a14b0c463d4aee801c806768f428d9",
       "version_major": 2,
       "version_minor": 0
      },
      "text/plain": [
       "tokenizer_config.json:   0%|          | 0.00/350 [00:00<?, ?B/s]"
      ]
     },
     "metadata": {},
     "output_type": "display_data"
    },
    {
     "data": {
      "application/vnd.jupyter.widget-view+json": {
       "model_id": "18c34f1bd7264eda81ef6bf1b3f84b16",
       "version_major": 2,
       "version_minor": 0
      },
      "text/plain": [
       "vocab.txt:   0%|          | 0.00/232k [00:00<?, ?B/s]"
      ]
     },
     "metadata": {},
     "output_type": "display_data"
    },
    {
     "data": {
      "application/vnd.jupyter.widget-view+json": {
       "model_id": "753eceb3848f4c4c84031fbffe39e9dd",
       "version_major": 2,
       "version_minor": 0
      },
      "text/plain": [
       "tokenizer.json:   0%|          | 0.00/466k [00:00<?, ?B/s]"
      ]
     },
     "metadata": {},
     "output_type": "display_data"
    },
    {
     "data": {
      "application/vnd.jupyter.widget-view+json": {
       "model_id": "74054b815c2147b18eb72964de7a752b",
       "version_major": 2,
       "version_minor": 0
      },
      "text/plain": [
       "special_tokens_map.json:   0%|          | 0.00/112 [00:00<?, ?B/s]"
      ]
     },
     "metadata": {},
     "output_type": "display_data"
    },
    {
     "name": "stderr",
     "output_type": "stream",
     "text": [
      "/Users/krishkhadria/anaconda3/envs/hilabs/lib/python3.9/site-packages/transformers/tokenization_utils_base.py:1601: FutureWarning: `clean_up_tokenization_spaces` was not set. It will be set to `True` by default. This behavior will be depracted in transformers v4.45, and will be then set to `False` by default. For more details check this issue: https://github.com/huggingface/transformers/issues/31884\n",
      "  warnings.warn(\n"
     ]
    },
    {
     "data": {
      "application/vnd.jupyter.widget-view+json": {
       "model_id": "d2ba7a27cdb447c69c1db72d72968b24",
       "version_major": 2,
       "version_minor": 0
      },
      "text/plain": [
       "1_Pooling/config.json:   0%|          | 0.00/190 [00:00<?, ?B/s]"
      ]
     },
     "metadata": {},
     "output_type": "display_data"
    }
   ],
   "source": [
    "from sentence_transformers import SentenceTransformer\n",
    "\n",
    "# Initialize the MiniLM model\n",
    "model = SentenceTransformer('sentence-transformers/all-MiniLM-L6-v2')\n",
    "\n",
    "# Generate embeddings for the entire document\n",
    "pdf_embedding = model.encode(pdf_text)"
   ]
  },
  {
   "cell_type": "code",
   "execution_count": 5,
   "metadata": {},
   "outputs": [
    {
     "data": {
      "text/plain": [
       "array([-8.83608982e-02,  3.47916819e-02, -1.65713839e-02, -1.31026916e-02,\n",
       "       -1.13674365e-01,  5.77316508e-02,  6.41423985e-02,  1.27244620e-02,\n",
       "        5.00108004e-02, -7.42442459e-02, -9.12209973e-04, -4.81109694e-03,\n",
       "        5.12137003e-02, -2.78491527e-02,  1.16521576e-02, -3.40808108e-02,\n",
       "        3.90674956e-02, -4.52403538e-02, -3.13543677e-02,  5.51240519e-02,\n",
       "       -6.33615116e-03,  6.37594461e-02, -5.94968349e-02,  7.57521316e-02,\n",
       "       -9.87395551e-03, -7.55349770e-02, -2.37429980e-02,  4.29751724e-03,\n",
       "        1.58584416e-02, -7.60502219e-02,  6.24845996e-02,  9.70917940e-02,\n",
       "        1.04975007e-01, -2.88137197e-02,  7.25517422e-02,  6.81435615e-02,\n",
       "       -1.75746754e-02, -6.38478845e-02, -1.32972412e-02,  3.46886888e-02,\n",
       "       -7.59689929e-03, -2.76307352e-02, -3.32891978e-02,  8.87775496e-02,\n",
       "       -1.84581522e-02,  3.64940055e-02, -4.46972102e-02,  7.82938115e-03,\n",
       "       -2.58394089e-02,  6.24408126e-02, -5.56527302e-02, -1.63812526e-02,\n",
       "       -2.25224849e-02,  1.93517581e-02, -5.49174808e-02, -1.96549818e-02,\n",
       "       -7.62799457e-02, -6.63072616e-02, -4.22624983e-02, -1.08534824e-02,\n",
       "       -4.23751213e-02, -8.76331981e-03,  1.45538095e-02,  7.51739368e-02,\n",
       "       -4.66716401e-02,  2.28486322e-02, -5.84981928e-04, -4.60962672e-03,\n",
       "       -9.57262516e-02, -3.42919007e-02, -5.52512184e-02, -7.85080418e-02,\n",
       "        2.02730335e-02,  7.87004828e-02,  6.25976175e-02, -3.01270955e-03,\n",
       "        2.12449189e-02,  4.79097068e-02,  9.47432145e-02, -1.51579738e-01,\n",
       "       -3.59328687e-02,  1.21738069e-01, -1.18512537e-04, -3.45910415e-02,\n",
       "       -4.33148853e-02, -7.10882694e-02,  2.05487087e-02, -1.35695096e-02,\n",
       "        2.65497193e-02, -7.75387287e-02, -1.79393440e-02,  7.59751163e-03,\n",
       "        1.35501288e-03, -1.13486901e-01,  2.32228301e-02, -5.91962449e-02,\n",
       "       -4.63536009e-02, -8.86851922e-02,  7.34581575e-02,  1.98453702e-02,\n",
       "       -1.12841967e-02,  3.65781076e-02, -5.28059155e-03,  4.69250344e-02,\n",
       "       -4.33116918e-03, -3.56868021e-02, -8.72274712e-02,  3.53943463e-03,\n",
       "        1.55779436e-01,  5.62831163e-02, -5.80696538e-02, -3.87968719e-02,\n",
       "        2.35132426e-02, -6.47442937e-02,  1.80988945e-02,  4.00985628e-02,\n",
       "       -2.12605130e-02, -5.93060069e-03,  1.28726959e-01, -7.42781684e-02,\n",
       "       -1.33223766e-02, -9.57992673e-03, -1.98852960e-02, -9.51462835e-02,\n",
       "       -1.36684498e-03,  5.39376773e-03, -1.84164778e-03,  2.68193646e-33,\n",
       "       -2.19509099e-02,  5.59296496e-02, -2.84221601e-02,  6.29650801e-02,\n",
       "       -1.01065766e-02, -1.76325068e-02, -2.90675787e-03, -2.14259680e-02,\n",
       "       -2.72002071e-03,  4.74633649e-02, -5.69368638e-02,  7.18665123e-02,\n",
       "        2.04398502e-02,  7.76298046e-02,  2.66465684e-03, -1.02300458e-02,\n",
       "        2.45618932e-02,  7.42255077e-02, -2.20902264e-02,  3.53424028e-02,\n",
       "       -7.31990710e-02,  4.73746732e-02,  4.55704741e-02,  2.38172375e-02,\n",
       "        5.49695194e-02, -6.38938546e-02, -3.08676567e-02, -1.05227455e-02,\n",
       "        6.38368800e-02, -7.25950534e-03,  9.73505527e-02, -3.93544994e-02,\n",
       "        5.16685750e-03, -1.37521327e-02,  1.10574588e-02,  5.84309399e-02,\n",
       "       -7.98724592e-03, -8.41784384e-03,  1.11556966e-02, -5.62088042e-02,\n",
       "       -6.35962188e-02,  7.31062144e-02, -1.62853450e-02, -1.49054388e-02,\n",
       "        3.06400415e-02,  1.92217575e-03,  1.05229188e-02,  3.67747969e-03,\n",
       "        5.63314892e-02, -6.18637167e-03, -1.24599058e-02, -3.90535146e-02,\n",
       "       -1.19267283e-02,  7.17573287e-03,  2.47949939e-02,  4.82375640e-03,\n",
       "       -5.95535897e-02,  5.04963547e-02, -1.38276053e-04,  3.57120112e-02,\n",
       "        4.09725308e-02, -2.64664069e-02, -6.41948506e-02,  4.65390421e-02,\n",
       "        1.32625839e-02, -1.45550873e-02,  7.92502053e-03, -1.48071675e-02,\n",
       "        9.75741968e-02, -8.53806585e-02, -8.45065620e-03,  3.76594369e-03,\n",
       "       -1.10282730e-02,  2.26846840e-02, -8.40960667e-02, -1.50638558e-02,\n",
       "        5.28170075e-03, -2.54248232e-02,  4.15700935e-02,  5.09809218e-02,\n",
       "       -3.90420258e-02,  8.51187333e-02,  9.09571722e-03,  2.20252834e-02,\n",
       "        3.33254896e-02, -2.14730706e-02,  1.36289239e-01,  8.87635630e-03,\n",
       "       -5.89049123e-02,  1.16610294e-02, -4.30510752e-02,  9.00786594e-02,\n",
       "        7.12873368e-03,  9.64425653e-02,  1.33060455e-01, -5.50376741e-33,\n",
       "        2.92930081e-02, -5.73145552e-03,  3.29136522e-03, -2.66802264e-03,\n",
       "        1.08933002e-02,  2.17831973e-02,  5.59607744e-02, -7.38465087e-03,\n",
       "       -2.94669322e-03, -3.27401608e-02,  6.41534626e-02, -4.69618067e-02,\n",
       "       -7.55211040e-02, -3.63774300e-02, -3.50198857e-02, -6.17335737e-02,\n",
       "       -1.55486763e-02, -1.69229917e-02, -7.03145564e-02,  1.49932757e-01,\n",
       "       -9.26739909e-03,  4.87766415e-02, -6.87351972e-02,  5.03705302e-03,\n",
       "        3.03330589e-02,  6.41122386e-02, -2.66857930e-02, -3.31814657e-03,\n",
       "        4.22350224e-03, -4.72243167e-02, -4.03061546e-02, -4.01106849e-02,\n",
       "       -7.95186460e-02, -4.59089167e-02, -2.44017746e-02, -6.62070662e-02,\n",
       "        8.15372318e-02, -3.72672565e-02, -9.80597511e-02, -3.52351516e-02,\n",
       "        9.17115062e-02, -4.82841469e-02, -2.20123138e-02,  2.84211561e-02,\n",
       "       -1.98791344e-02, -8.98963884e-02,  1.23071959e-02, -3.52684595e-02,\n",
       "       -4.94084358e-02,  4.01512999e-03, -2.64934562e-02, -5.53860813e-02,\n",
       "        2.41189003e-02, -8.95205740e-05, -5.99232130e-02, -1.20777236e-02,\n",
       "        4.24193963e-02, -3.88159901e-02, -3.20404395e-02, -3.47726569e-02,\n",
       "        1.15779087e-01,  7.19069913e-02, -2.36560591e-02,  4.17464189e-02,\n",
       "        2.41764989e-02,  7.58300163e-03,  3.41387605e-03, -9.30339936e-03,\n",
       "        3.04240081e-02, -5.98517433e-02, -9.48308334e-02, -3.87731418e-02,\n",
       "       -3.49923223e-02, -1.06879875e-01,  2.05720179e-02, -7.63018876e-02,\n",
       "       -3.38074900e-02, -7.60724470e-02, -4.33436893e-02, -1.48377549e-02,\n",
       "       -5.85700832e-02,  2.25257389e-02, -4.60971445e-02,  8.69976282e-02,\n",
       "        1.30174719e-02, -9.69706625e-02,  6.57669604e-02, -4.97090742e-02,\n",
       "       -2.00057942e-02,  3.61782014e-02, -2.16466691e-02, -7.45887123e-03,\n",
       "       -5.83406724e-02,  1.20576411e-01, -6.93873167e-02, -5.88511426e-08,\n",
       "       -1.57652069e-02,  1.35495737e-02, -8.93924572e-03, -7.75351152e-02,\n",
       "        7.31170103e-02, -9.91677791e-02, -3.89279872e-02, -5.63807338e-02,\n",
       "       -2.61200257e-02,  1.03738375e-01,  6.83981180e-02,  5.71194030e-02,\n",
       "       -4.83289473e-02, -4.79165278e-02, -3.39616537e-02, -3.65796709e-03,\n",
       "       -4.78968723e-03,  1.69450734e-02, -1.81880333e-02,  7.02937320e-02,\n",
       "       -7.18110204e-02,  1.13639263e-02, -2.52551362e-02, -4.63615619e-02,\n",
       "        4.80724382e-04, -2.44000945e-02, -1.87931135e-02,  3.67062055e-02,\n",
       "        9.83761027e-02,  4.31523994e-02,  1.25437053e-02,  8.77448246e-02,\n",
       "        2.79081874e-02, -4.16862480e-02, -3.96570414e-02, -8.77151489e-02,\n",
       "        3.96604277e-02, -1.63195301e-02,  7.29368925e-02,  1.56385098e-02,\n",
       "        2.10019816e-02,  7.94940069e-02, -3.12235188e-02,  5.39523922e-03,\n",
       "        3.82871106e-02,  1.58851985e-02, -5.71364479e-04,  2.22344901e-02,\n",
       "        2.09235959e-02, -5.34287281e-02, -4.65937890e-02,  1.79860415e-03,\n",
       "        7.39575922e-02,  1.61018141e-03, -3.15043330e-02, -1.80238150e-02,\n",
       "        2.99044084e-02, -6.20139716e-03,  5.00288717e-02,  3.84938903e-02,\n",
       "       -2.11894270e-02, -6.95155263e-02,  1.12301126e-01, -3.57307419e-02],\n",
       "      dtype=float32)"
      ]
     },
     "execution_count": 5,
     "metadata": {},
     "output_type": "execute_result"
    }
   ],
   "source": [
    "pdf_embedding"
   ]
  },
  {
   "cell_type": "code",
   "execution_count": null,
   "metadata": {},
   "outputs": [],
   "source": []
  }
 ],
 "metadata": {
  "kernelspec": {
   "display_name": "hilabs",
   "language": "python",
   "name": "python3"
  },
  "language_info": {
   "codemirror_mode": {
    "name": "ipython",
    "version": 3
   },
   "file_extension": ".py",
   "mimetype": "text/x-python",
   "name": "python",
   "nbconvert_exporter": "python",
   "pygments_lexer": "ipython3",
   "version": "3.9.19"
  }
 },
 "nbformat": 4,
 "nbformat_minor": 2
}
